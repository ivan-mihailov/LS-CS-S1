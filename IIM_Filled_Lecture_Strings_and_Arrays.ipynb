{
  "nbformat": 4,
  "nbformat_minor": 0,
  "metadata": {
    "colab": {
      "name": "IIM_Filled_Lecture_Strings_and_Arrays.ipynb",
      "provenance": [],
      "collapsed_sections": [],
      "include_colab_link": true
    },
    "kernelspec": {
      "name": "python3",
      "display_name": "Python 3"
    },
    "language_info": {
      "name": "python"
    }
  },
  "cells": [
    {
      "cell_type": "markdown",
      "metadata": {
        "id": "view-in-github",
        "colab_type": "text"
      },
      "source": [
        "<a href=\"https://colab.research.google.com/github/ivan-mihailov/LS-CS-S1/blob/main/IIM_Filled_Lecture_Strings_and_Arrays.ipynb\" target=\"_parent\"><img src=\"https://colab.research.google.com/assets/colab-badge.svg\" alt=\"Open In Colab\"/></a>"
      ]
    },
    {
      "cell_type": "markdown",
      "metadata": {
        "id": "bKt8SAr7q9xt"
      },
      "source": [
        "# Strings and Arrays\n",
        "\n",
        "- recall the time and space complexity, the strengths and weaknesses, and basic operations of a static array\n",
        "- describe the differences between in-place and out-of-place algorithms\n",
        "- recall the time and space complexity, the strengths and weaknesses, and basic operations of a dynamic array"
      ]
    },
    {
      "cell_type": "markdown",
      "metadata": {
        "id": "Lko_OX74rUWQ"
      },
      "source": [
        "# Static Homogeneous Arrays\n",
        "- static arrays can be used in languages such as C\n",
        "- they are a fixed size and only contain data of a single types\n",
        "\n",
        "```c\n",
        "int arr[8] = {1, 2, 3, 4, 6, 8, 90, 2};\n",
        "int arr2[4] = {1, 2, 3, 4};\n",
        "```"
      ]
    },
    {
      "cell_type": "markdown",
      "metadata": {
        "id": "37QV_-iPkYBK"
      },
      "source": [
        "# Static Hetrogeneous Arrays\n",
        "\n",
        "\n",
        "*   the Tuple in Python\n",
        "\n",
        "`t = (1, 2, 3, 4, \"Five\")`"
      ]
    },
    {
      "cell_type": "markdown",
      "metadata": {
        "id": "bH71zO50sAMt"
      },
      "source": [
        "# in place and out of place algorithms"
      ]
    },
    {
      "cell_type": "code",
      "metadata": {
        "id": "2OymvJ7Nq52X"
      },
      "source": [
        "def triple_list_in_place(int_list):\n",
        "    for idx, item in enumerate(int_list):\n",
        "        int_list[idx] *= 3\n",
        "\n",
        "    # No return statement because we've modified the original list in place.\n",
        "    # There is no need to return another reference to the same list."
      ],
      "execution_count": null,
      "outputs": []
    },
    {
      "cell_type": "code",
      "metadata": {
        "id": "psQCw8NBrP5b"
      },
      "source": [
        "def triple_list_out_of_place(int_list):\n",
        "    # Allocate a new list with enough room for all of the elements\n",
        "    tripled_list = [None] * len(int_list)\n",
        "\n",
        "    for idx, item in enumerate(int_list):\n",
        "        tripled_list[idx] = item *= 3\n",
        "\n",
        "    return tripled_list"
      ],
      "execution_count": null,
      "outputs": []
    },
    {
      "cell_type": "markdown",
      "metadata": {
        "id": "l3TSBWrgsUxG"
      },
      "source": [
        "# Dynamic Arrays (Lists)\n",
        "- Dynamic arrays can resize dynamically\n",
        "- they can be created with diferent types of data\n",
        "- we can model a Dynamic array in python\n",
        "\n",
        "```python\n",
        "arr = [] #9--pre-allocates certain memory internally [None, None, None, None, None, None, None, None, None]\n",
        "arr.append(1)\n",
        "arr.append(\"Two\")\n",
        "arr.append(3.0)\n",
        "```"
      ]
    },
    {
      "cell_type": "markdown",
      "metadata": {
        "id": "YqcpDSals3R8"
      },
      "source": [
        "# Demo"
      ]
    },
    {
      "cell_type": "code",
      "metadata": {
        "colab": {
          "base_uri": "https://localhost:8080/"
        },
        "id": "qiqMf_fAs2vR",
        "outputId": "2cd6313b-1ae1-4e07-b5b9-6f9d2745114a"
      },
      "source": [
        "\"\"\"\n",
        "You are given a non-empty array that represents the digits of a non-negative integer.\n",
        "Write a function that increments the number by 1.\n",
        "\n",
        "The digits are stored so that the digit representing the most significant place value is \n",
        "at the beginning of the array. Each element in the array only contains a single digit.\n",
        "\n",
        "You will not receive a leading 0 in your input array (except for the number 0 itself).\n",
        "\n",
        "Example 1:\n",
        "Input: [1,3,2]\n",
        "Output: [1,3,3]\n",
        "Explanation: The input array represents the integer 132. 132 + 1 = 133.\n",
        "Example 2:\n",
        "Input: [3,2,1,9]\n",
        "Output: [3,2,2,0]\n",
        "Explanation: The input array represents the integer 3219. 3219 + 1 = 3220.\n",
        "Example 3:\n",
        "Input: [9,9,9]\n",
        "Output: [1,0,0,0]\n",
        "Explanation: The input array represents the integer 999. 999 + 1 = 1000.\n",
        "\n",
        "Plan:\n",
        "- iterate over the list from the last item to the first item\n",
        "  - check if the digit is a nine\n",
        "    - set the current digit to zero\n",
        "  - otherwise\n",
        "    - add one to the current digit\n",
        "    - return the input to the caller\n",
        "- prepend [1] to the start of the input list\n",
        "\"\"\"\n",
        "# Sum O(2)\n",
        "# Sum O(n) * 6\n",
        "# Time Complexity: (O(2) + O(n) * 6) --> O(n) once we remove constants\n",
        "# Space Complexity: O(1)\n",
        "def plus_one(digits): \n",
        "  n = len(digits) # constant (O(1))\n",
        "  for i in range(n): # O(n)\n",
        "    idx = n - 1 - i # O(1)\n",
        "\n",
        "    if digits[idx] == 9: # O(1)\n",
        "      digits[idx] = 0 # O(1)\n",
        "    else: # O(1)\n",
        "      digits[idx] += 1 # O(1)\n",
        "      return digits # O(1)\n",
        "\n",
        "  return [1] + digits # O(1) / O(n) under the hood\n",
        "\n",
        "# Tests\n",
        "print(plus_one([1,3,2])) # [1,3,3]\n",
        "print(plus_one([3,2,1,9])) # [3,2,2,0]\n",
        "print(plus_one([9,9,9])) # [1,0,0,0]"
      ],
      "execution_count": 9,
      "outputs": [
        {
          "output_type": "stream",
          "name": "stdout",
          "text": [
            "[1, 3, 3]\n",
            "[3, 2, 2, 0]\n",
            "[1, 0, 0, 0]\n"
          ]
        }
      ]
    },
    {
      "cell_type": "code",
      "metadata": {
        "id": "x-7gwd2jk68B"
      },
      "source": [
        "\"\"\"\n",
        "Given an array of integers `nums`, define a function that returns the \"pivot\" index of the array.\n",
        "The \"pivot\" index is where the sum of all the numbers on the left of that index is equal to the sum of all the numbers on the right of that index.\n",
        "If the input array does not have a \"pivot\" index, then the function should return `-1`. If there are more than one \"pivot\" indexes, then you should return the left-most \"pivot\" index.\n",
        "Example 1:\n",
        "Input: nums = [1,7,3,6,5,6]\n",
        "Output: 3\n",
        "Explanation:\n",
        "The sum of the numbers to the left of index 3 (1 + 7 + 3 = 11) is equal to the sum of numbers to the right of index 3 (5 + 6 = 11).\n",
        "Also, 3 is the first index where this occurs.\n",
        "Example 2:\n",
        "Input: nums = [1,2,3]\n",
        "Output: -1\n",
        "Explanation:\n",
        "There is no index that satisfies the conditions in the problem statement.\n",
        "\"\"\"\n",
        "def pivot_index(nums):\n",
        "  pass"
      ],
      "execution_count": null,
      "outputs": []
    }
  ]
}