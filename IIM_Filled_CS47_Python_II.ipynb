{
  "nbformat": 4,
  "nbformat_minor": 0,
  "metadata": {
    "colab": {
      "name": "IIM_Filled_CS47_Python_II.ipynb",
      "provenance": [],
      "collapsed_sections": [],
      "include_colab_link": true
    },
    "kernelspec": {
      "name": "python3",
      "display_name": "Python 3"
    },
    "language_info": {
      "name": "python"
    }
  },
  "cells": [
    {
      "cell_type": "markdown",
      "metadata": {
        "id": "view-in-github",
        "colab_type": "text"
      },
      "source": [
        "<a href=\"https://colab.research.google.com/github/ivan-mihailov/LS-CS-S1/blob/main/IIM_Filled_CS47_Python_II.ipynb\" target=\"_parent\"><img src=\"https://colab.research.google.com/assets/colab-badge.svg\" alt=\"Open In Colab\"/></a>"
      ]
    },
    {
      "cell_type": "markdown",
      "metadata": {
        "id": "x7hZlcjMEh91"
      },
      "source": [
        "# Attendance Code: 2127"
      ]
    },
    {
      "cell_type": "markdown",
      "metadata": {
        "id": "Ce2Ue5u1SXT2"
      },
      "source": [
        "# Imports / Lists / Classes\n",
        "\n",
        "- import modules\n",
        "- perform basic list operations\n",
        "- create user defined classes\n",
        "\n"
      ]
    },
    {
      "cell_type": "code",
      "metadata": {
        "colab": {
          "base_uri": "https://localhost:8080/"
        },
        "id": "Jw7UilXKSrZ2",
        "outputId": "03fc71fa-12f3-416a-ebce-765a9553085b"
      },
      "source": [
        "\"\"\"\n",
        "Import the \"math\" module. Then, print an alphabetically sorted list of all the functions available in the \n",
        "\"math\" module that start with the letters \"is\".\n",
        "\"\"\"\n",
        "# YOUR CODE HERE\n",
        "\n",
        "\"\"\"\n",
        "- import the math module\n",
        "- create an empty output list\n",
        "- extract the functions as a list from the math module (use the built in dir() function)\n",
        "- iterate over the functions extracting each function\n",
        "  - take a slice of the first two characters in the function string and check if they are equal to \"is\"\n",
        "    - append the function string to the output list\n",
        "  \n",
        "- sort the output list\n",
        "\n",
        "- print the output list\n",
        "\n",
        "\"\"\"\n",
        "import math\n",
        "\n",
        "output = []\n",
        "\n",
        "math_module_functions_list = dir(math)\n",
        "\n",
        "for function_string in math_module_functions_list:\n",
        "  if function_string[0:2] == \"is\":\n",
        "    output.append(function_string)\n",
        "\n",
        "output.sort()\n",
        "\n",
        "print(output)\n",
        "\n",
        "\n",
        "\n",
        "\n",
        "  # print(func)\n",
        "  # if func == \"isinf\":\n",
        "  #   print(\"i got one!\")\n",
        "# print(\"bobinf\".startswith(\"is\"))\n",
        "# print(\"isinf\"[0] == \"i\" and \"isinf\"[1] == \"s\")\n",
        "# print(\"isinf\"[0:2])\n",
        "# print(\"isinf\"[0:2] == \"is\")\n",
        "# output = []\n",
        "# output.append(\"joe\")\n",
        "# output.append(\"dave\")\n",
        "# output.sort()\n",
        "# print(output)"
      ],
      "execution_count": null,
      "outputs": [
        {
          "output_type": "stream",
          "name": "stdout",
          "text": [
            "['isclose', 'isfinite', 'isinf', 'isnan']\n"
          ]
        }
      ]
    },
    {
      "cell_type": "code",
      "metadata": {
        "id": "vNQ40OTWF-m2"
      },
      "source": [
        "output = [1, 'hello', 3.6, [12, 22, 543]]\n",
        "\n",
        "# output[-1][1]\n",
        "# output[::-1] \n",
        "\"\"\"\n",
        "slicing from element 0 to last element stepping in increments of negative 1\n",
        "\"\"\"\n",
        "# manual reverse list as in above slice\n",
        "result = []\n",
        "for i in range(len(output) - 1, -1, -1):\n",
        "  result.append(output[i])\n"
      ],
      "execution_count": 1,
      "outputs": []
    },
    {
      "cell_type": "code",
      "metadata": {
        "colab": {
          "base_uri": "https://localhost:8080/"
        },
        "id": "dSy856NkKMaD",
        "outputId": "09417bbd-b09b-402c-8a2c-2ccb4e79eb51"
      },
      "source": [
        "output = [1, 'hello', 3.6, [12, 22, [2, 3, 6, [55, 66]], 543]]\n",
        "\n",
        "output[-1][2][-1][1]"
      ],
      "execution_count": 3,
      "outputs": [
        {
          "output_type": "execute_result",
          "data": {
            "text/plain": [
              "66"
            ]
          },
          "metadata": {},
          "execution_count": 3
        }
      ]
    },
    {
      "cell_type": "code",
      "metadata": {
        "id": "g-dIVt-YSz5V"
      },
      "source": [
        "\"\"\"\n",
        "Below, you'll find a class definition for animals. Create two new animals `cat`\n",
        "and `dog`. Set `cat` to have a name of \"Purrfect\", kind of \"cat\",\n",
        "and color of \"brown\". Set `dog` to have a name of \"Fido\",\n",
        "kind of \"dog\", and color of \"black\".\n",
        "\"\"\"\n",
        "class Animal:\n",
        "    name = \"\"\n",
        "    kind = \"\"\n",
        "    color = \"\"\n",
        "\n",
        "    def description(self):\n",
        "        return \"%s is a %s %s.\" % (self.name, self.color, self.kind)\n",
        "\n",
        "# Create instances of Animal here and modify the instance attributes\n",
        "# as described above.\n",
        "\n",
        "# YOUR CODE HERE\n",
        "\n",
        "\n",
        "# Should print Purrfect is a brown cat.\n",
        "print(cat.description())\n",
        "# Should print Fido is a black dog.\n",
        "print(dog.description())"
      ],
      "execution_count": null,
      "outputs": []
    },
    {
      "cell_type": "markdown",
      "metadata": {
        "id": "GYyR2L1DTMKn"
      },
      "source": [
        "# Demo"
      ]
    },
    {
      "cell_type": "code",
      "metadata": {
        "id": "qwJtI4zsTHP5"
      },
      "source": [
        "\"\"\"\n",
        "Challenge #1:\n",
        "Write a function that retrieves the last n elements from a list.\n",
        "Examples:\n",
        "- last([1, 2, 3, 4, 5], 1) ➞ [5]\n",
        "- last([4, 3, 9, 9, 7, 6], 3) ➞ [9, 7, 6]\n",
        "- last([1, 2, 3, 4, 5], 7) ➞ \"invalid\"\n",
        "- last([1, 2, 3, 4, 5], 0) ➞ []\n",
        "Notes:\n",
        "- Return \"invalid\" if n exceeds the length of the list.\n",
        "- Return an empty list if n == 0.\n",
        "\"\"\"\n",
        "\n",
        "\n",
        "def last(a, n):\n",
        "  pass"
      ],
      "execution_count": null,
      "outputs": []
    },
    {
      "cell_type": "markdown",
      "metadata": {
        "id": "JksQJQaZTXrt"
      },
      "source": [
        "# U**.**P**.**E**.**R\n",
        "\n",
        "- **U**nderstand\n",
        "- **P**lan\n",
        "- **E**xecute\n",
        "- **R**eflect\n",
        "\n"
      ]
    },
    {
      "cell_type": "code",
      "metadata": {
        "id": "3slLdPyMSUCm"
      },
      "source": [
        "\"\"\"\n",
        "Given a list of numbers, create a function that returns the list but with each\n",
        "element's index in the list added to itself. You should add 0 to the number at\n",
        "index 0, add 1 to the number at index 1, etc.\n",
        "Examples:\n",
        "- add_indexes([0, 0, 0, 0, 0]) ➞ [0, 1, 2, 3, 4]\n",
        "- add_indexes([1, 2, 3, 4, 5]) ➞ [1, 3, 5, 7, 9]\n",
        "- add_indexes([5, 4, 3, 2, 1]) ➞ [5, 5, 5, 5, 5]\n",
        "Notes:\n",
        "- The input list will only contain integers.\n",
        "\"\"\"\n",
        "\n",
        "\n",
        "def add_indexes(numbers):\n",
        "    pass"
      ],
      "execution_count": null,
      "outputs": []
    }
  ]
}