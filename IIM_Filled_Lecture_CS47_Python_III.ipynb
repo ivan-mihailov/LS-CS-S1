{
  "nbformat": 4,
  "nbformat_minor": 0,
  "metadata": {
    "colab": {
      "name": "IIM_Filled_Lecture_CS47_Python_III.ipynb",
      "provenance": [],
      "collapsed_sections": [],
      "include_colab_link": true
    },
    "kernelspec": {
      "name": "python3",
      "display_name": "Python 3"
    },
    "language_info": {
      "name": "python"
    }
  },
  "cells": [
    {
      "cell_type": "markdown",
      "metadata": {
        "id": "view-in-github",
        "colab_type": "text"
      },
      "source": [
        "<a href=\"https://colab.research.google.com/github/ivan-mihailov/LS-CS-S1/blob/main/IIM_Filled_Lecture_CS47_Python_III.ipynb\" target=\"_parent\"><img src=\"https://colab.research.google.com/assets/colab-badge.svg\" alt=\"Open In Colab\"/></a>"
      ]
    },
    {
      "cell_type": "markdown",
      "metadata": {
        "id": "aWrhdFyONARR"
      },
      "source": [
        "# Attendance Code: 6153"
      ]
    },
    {
      "cell_type": "markdown",
      "metadata": {
        "id": "vpxroiS0frUG"
      },
      "source": [
        "# Python III\n",
        "## Objectives\n",
        "- perform basic dictionary operations\n",
        "- recognize mutable and immutable objects\n",
        "- compare the time complexity of different approaches to a problem using Big O notation\n",
        "- compare the space complexity of different approaches to a problem using Big O notation\n",
        "- use list comprehensions"
      ]
    },
    {
      "cell_type": "markdown",
      "metadata": {
        "id": "zWrOAQQwf5gu"
      },
      "source": [
        "# Dictionaries"
      ]
    },
    {
      "cell_type": "code",
      "metadata": {
        "colab": {
          "base_uri": "https://localhost:8080/"
        },
        "id": "BggBDKIqeo7W",
        "outputId": "2d027020-7a94-4d7e-8452-83817877a068"
      },
      "source": [
        "\"\"\"\n",
        "Add \"Herb\" to the phonebook with the number 7653420789.\n",
        "Remove \"Bill\" from the phonebook.\n",
        "\"\"\"\n",
        "phonebook = {\n",
        "    \"Abe\": 4569874321,\n",
        "    \"Bill\": 7659803241,\n",
        "    \"Barry\": 6573214789\n",
        "}\n",
        "\n",
        "# YOUR CODE HERE\n",
        "phonebook[\"Herb\"] = 7653420789\n",
        "del phonebook[\"Bill\"]\n",
        "\n",
        "\n",
        "# Should print Herb is in the phonebook.\n",
        "if \"Herb\" in phonebook:\n",
        "    print(\"Herb is in the phonebook.\")\n",
        "\n",
        "# Should print Bill is not in the phonebook.\n",
        "if \"Bill\" not in phonebook:\n",
        "    print(\"Bill is not in the phonebook.\")"
      ],
      "execution_count": null,
      "outputs": [
        {
          "output_type": "stream",
          "name": "stdout",
          "text": [
            "Herb is in the phonebook.\n",
            "Bill is not in the phonebook.\n"
          ]
        }
      ]
    },
    {
      "cell_type": "markdown",
      "metadata": {
        "id": "b1BtKyaNf9QS"
      },
      "source": [
        "# Mutability"
      ]
    },
    {
      "cell_type": "code",
      "metadata": {
        "colab": {
          "base_uri": "https://localhost:8080/"
        },
        "id": "qoWdvgKge8Bz",
        "outputId": "dbdf49ae-8c32-4875-9ee8-620c1ded5b0e"
      },
      "source": [
        "\"\"\"\n",
        "Example One\n",
        "\"\"\"\n",
        "\n",
        "\n",
        "my_list1 = [1, 2, 3, 4, 5, 6]\n",
        "my_list2 = my_list1\n",
        "# How would you verify that my_list1 and my_list2 have the same identity?\n",
        "print(id(my_list1), id(my_list2))\n",
        "\n",
        "my_list1.append(7)\n",
        "# Check if my_list1 and my_list2 still have the same identity.\n",
        "# If they do, why is that?\n",
        "print(id(my_list1), id(my_list2))\n",
        "\n",
        "\n",
        "\n",
        "\"\"\"\n",
        "Example Two\n",
        "\"\"\"\n",
        "my_text1 = \"Lambda School\"\n",
        "my_text2 = my_text1\n",
        "# How would you verify that my_text1 and my_text2 have the same identity?\n",
        "print(\"My Text\", id(my_text1), id(my_text2))\n",
        "\n",
        "my_text1 += \" is awesome!\"\n",
        "# Check if my_text1 and my_text2 still have the same identity?\n",
        "print(\"My Text\", id(my_text1), id(my_text2))\n",
        "# If they do not, why is that?\n",
        "\n",
        "# Now check if my_text1 and my_text2 have the same value?\n",
        "print(\"1:\", my_text1, \"2:\", my_text2)\n",
        "# Do they? Explain why or why not.\n",
        "\n",
        "\n",
        "\n",
        "\"\"\"\n",
        "Example Three\n",
        "\"\"\"\n",
        "# Initialize a list and assign to produce\n",
        "produce = [\"Apple\", \"Banana\", \"Carrot\"]\n",
        "# Initialize a tuple and include a reference to the produce list in the tuple\n",
        "store = (\"Bill's Grocery\", produce)\n",
        "print(\"store\", id(store))\n",
        "# Add a new item to the produce list\n",
        "produce.append(\"Dragonfruit\")\n",
        "print(\"store\", id(store))\n",
        "\n",
        "print(dir(store))\n",
        "\n",
        "# Did you notice that the identity of store remained the same?\n",
        "# But I thought if you changed a mutable object, a new object would\n",
        "# be created in memory? Why did that not occur here?"
      ],
      "execution_count": null,
      "outputs": [
        {
          "output_type": "stream",
          "name": "stdout",
          "text": [
            "140230270859296 140230270859296\n",
            "140230270859296 140230270859296\n",
            "My Text 140230270980144 140230270980144\n",
            "My Text 140230450204224 140230270980144\n",
            "1: Lambda School is awesome! 2: Lambda School\n",
            "store 140230271078880\n",
            "store 140230271078880\n",
            "['__add__', '__class__', '__contains__', '__delattr__', '__dir__', '__doc__', '__eq__', '__format__', '__ge__', '__getattribute__', '__getitem__', '__getnewargs__', '__gt__', '__hash__', '__init__', '__init_subclass__', '__iter__', '__le__', '__len__', '__lt__', '__mul__', '__ne__', '__new__', '__reduce__', '__reduce_ex__', '__repr__', '__rmul__', '__setattr__', '__sizeof__', '__str__', '__subclasshook__', 'count', 'index']\n"
          ]
        }
      ]
    },
    {
      "cell_type": "markdown",
      "metadata": {
        "id": "UJ74m7EYfBpi"
      },
      "source": [
        "# Time Complexity\n",
        "- Remember this for interviews\n",
        "- This is not the be all and end all measure for performance\n",
        "- Use this as a planning tool\n",
        "- also use this when in your reflection phase of UPER"
      ]
    },
    {
      "cell_type": "code",
      "metadata": {
        "colab": {
          "base_uri": "https://localhost:8080/"
        },
        "id": "eyifzNlJfD0o",
        "outputId": "2ea3be67-08c0-4a37-f884-4eea52faff6a"
      },
      "source": [
        "\"\"\"\n",
        "Constant Time O(1)\n",
        "\"\"\"\n",
        "def print_one_item(items):\n",
        "    print(items[0])\n",
        "\n",
        "\"\"\"\n",
        "Linear Time O(n)\n",
        "\"\"\"\n",
        "def print_every_item(items):\n",
        "    for item in items:\n",
        "        print(item)\n",
        "\n",
        "\"\"\"\n",
        "Quadratic Time O(n^2)\n",
        "\"\"\"\n",
        "def print_pairs(items):\n",
        "    for item_one in items:\n",
        "        for item_two in items:\n",
        "            print(item_one, item_two)\n",
        "\"\"\"\n",
        "What about constants?\n",
        "\"\"\"\n",
        "def do_a_bunch_of_stuff(items): # O(1 + n/2 + 2000) -> O(n)\n",
        "    last_idx = len(items) - 1\n",
        "    print(items[last_idx]) # O(1)\n",
        "\n",
        "    middle_idx = len(items) / 2\n",
        "    idx = 0\n",
        "    while idx < middle_idx: # O(n/2)\n",
        "        print(items[idx])\n",
        "        idx = idx + 1\n",
        "\n",
        "    for num in range(2000): # O(2000)\n",
        "        print(num)\n",
        "\n",
        "\"\"\"\n",
        "Most significant term\n",
        "\"\"\"\n",
        "def do_different_things(items): # O(n + n^2) -> O(n^2)\n",
        "    for item in items: # O(n)\n",
        "        print(item)\n",
        "\n",
        "    for item_one in items: # O(n * n) = O(n^2)\n",
        "        for item_two in items:\n",
        "            print(item_one, item_two)\n",
        "\n",
        "\"\"\"\n",
        "Big O is the worst case\n",
        "\"\"\"\n",
        "def search_for_thing(items, thing): # O(n)\n",
        "    for item in items:\n",
        "        if item == thing:\n",
        "            return True\n",
        "\n",
        "    return False\n",
        "\n",
        "\"\"\"\n",
        "Classify the runtime complexity of the number_of_steps function below using Big O notation.\n",
        "\"\"\"\n",
        "\n",
        "def number_of_steps(num): # O(log(n))\n",
        "    steps = 0\n",
        "    while num > 0:\n",
        "        if num % 2 == 0:\n",
        "            num = num // 2\n",
        "        else:\n",
        "            num = num - 1\n",
        "        steps = steps + 1\n",
        "    return steps\n",
        "\n",
        "# print(number_of_steps(10))\n",
        "print(number_of_steps(10000))"
      ],
      "execution_count": null,
      "outputs": [
        {
          "output_type": "stream",
          "name": "stdout",
          "text": [
            "18\n"
          ]
        }
      ]
    },
    {
      "cell_type": "markdown",
      "metadata": {
        "id": "g3pgkr0nfJU1"
      },
      "source": [
        "# Space Complexity"
      ]
    },
    {
      "cell_type": "code",
      "metadata": {
        "id": "Lmxykdv0fLMa"
      },
      "source": [
        "\"\"\"\n",
        "Constant Space O(1)\n",
        "\"\"\"\n",
        "def print_lambda_n_times(n):\n",
        "    for i in range(n):\n",
        "        print(\"lambda\")\n",
        "\n",
        "def get_the_max(items_list):\n",
        "    maximum = float(\"-inf\")\n",
        "    for item in items_list:\n",
        "        if item > maximum:\n",
        "            maximum = item\n",
        "\n",
        "    return maximum\n",
        "\n",
        "\"\"\"\n",
        "Linear Space O(n)\n",
        "\"\"\"\n",
        "def append_to_list_n_times(n):\n",
        "    my_list = [] # O(1)\n",
        "\n",
        "    for _ in range(n): # O(n)\n",
        "        my_list.append(\"lambda\") # O(1)\n",
        "\n",
        "    return my_list\n",
        "\n",
        "\"\"\"\n",
        "Use Big O notation to classify the space complexity of the function below.\n",
        "\"\"\"\n",
        "def fibonacci(n): # O(n)\n",
        "    lst = [0, 1] # O(2)\n",
        "    for i in range(2, n): # O(n)\n",
        "        lst.append(lst[i-2] + lst[i-1]) # O(2)\n",
        "\n",
        "    return lst[n-1] # O(1)\n",
        "\n",
        "\n",
        "\n",
        "\"\"\"\n",
        "Use Big O notation to classify the space complexity of the function below.\n",
        "\"\"\"\n",
        "def fibonacci_two(n): # O(1)\n",
        "    x, y, z = 0, 1, None # O(3)\n",
        "\n",
        "    if n == 0:\n",
        "        return x\n",
        "    if n == 1:\n",
        "        return y\n",
        "\n",
        "    for i in range(2, n):\n",
        "        z = x + y\n",
        "        x, y = y, z\n",
        "\n",
        "    return z\n",
        "\n",
        "\"\"\"\n",
        "Use Big O notation to classify the space complexity of the function below.\n",
        "\"\"\"\n",
        "def do_something(n): # O(n^2)\n",
        "    lst = [] # O(1)\n",
        "    for i in range(n): # O(n)\n",
        "        for j in range(n): # O(n)\n",
        "            lst.append(i + j) # O(n^2 * 2)\n",
        "\n",
        "    return lst"
      ],
      "execution_count": null,
      "outputs": []
    },
    {
      "cell_type": "markdown",
      "metadata": {
        "id": "ztfi__gYfS-y"
      },
      "source": [
        "# List Comprehensions"
      ]
    },
    {
      "cell_type": "code",
      "metadata": {
        "colab": {
          "base_uri": "https://localhost:8080/"
        },
        "id": "hJU67ShKfSn7",
        "outputId": "f83045c1-a418-43f2-b8ec-366ed593cf41"
      },
      "source": [
        "l = [1, 2, 3, 4, 5]\n",
        "for i in range(len(l)):\n",
        "  l[i] = l[i] * 2\n",
        "\n",
        "l2 = [l[i] * 2 for i in range(len(l)) if l[i] == 4]\n",
        "# for i in range(len(l)):\n",
        "# l2.append(l[i] * 2)\n",
        "\n",
        "\n",
        "l3 = []\n",
        "for i in range(len(l)):\n",
        "  l3.append(l[i] * 2)\n",
        "print(l)\n",
        "print(l2)\n",
        "print(l3)\n",
        "print(l)\n",
        "\n",
        "\n"
      ],
      "execution_count": null,
      "outputs": [
        {
          "output_type": "stream",
          "name": "stdout",
          "text": [
            "[2, 4, 6, 8, 10]\n",
            "[8]\n",
            "[4, 8, 12, 16, 20]\n",
            "[2, 4, 6, 8, 10]\n"
          ]
        }
      ]
    },
    {
      "cell_type": "markdown",
      "metadata": {
        "id": "dN24YfjUecuS"
      },
      "source": [
        "# DEMO"
      ]
    },
    {
      "cell_type": "code",
      "metadata": {
        "id": "1pQ5AS27d2og",
        "colab": {
          "base_uri": "https://localhost:8080/"
        },
        "outputId": "3ed7ed51-18ee-4fd1-eceb-17b1bc1c5202"
      },
      "source": [
        "\n",
        "\"\"\"\n",
        "Demonstration\n",
        "Given a non-empty array of integers `nums`, every element appears twice except except for one. Write a function that finds the element that only appears once.\n",
        "Examples:\n",
        "- single_number([3,3,2]) -> 2\n",
        "- single_number([5,2,3,2,3]) -> 5\n",
        "- single_number([10]) -> 10\n",
        "\n",
        "Understanding:\n",
        "\n",
        "- create a copy of list\n",
        "- sort the list in place\n",
        "- create a loop to go through it\n",
        "- check if the index at i is not eq to the index of i-1\n",
        "  - keep the item\n",
        "- otherwise\n",
        "  - remove the item from the list\n",
        "\n",
        "New Plan:\n",
        "- create a singles list\n",
        "- iterate over all numbers\n",
        "  -if the number is not in our singles list\n",
        "    -append it to our singles list\n",
        "  -otherwise\n",
        "    -remove it from the singles list\n",
        "- return the last item in singles list\n",
        "\n",
        "Plan with Dictionary:\n",
        "- create a dictionary\n",
        "- fill the dictionary with each number as a key, and a value of zero\n",
        "- iterate over the numbers extracting num\n",
        "  - increment the dictionary at key of num\n",
        "\n",
        "- iterate over the items in the dictionary (.items()) extracting key, val\n",
        "  - check if the val == 1\n",
        "  - return the key where val == 1\n",
        "\"\"\"\n",
        "def single_number(nums):\n",
        "  singles = []\n",
        "  for num in nums:\n",
        "    if num not in singles:\n",
        "      singles.append(num)\n",
        "    else:\n",
        "      singles.remove(num)\n",
        "  \n",
        "  return singles[-1]\n",
        "\n",
        "print(single_number([3,3,2])) #-> 2\n",
        "print(single_number([5,2,3,2,3])) # -> 5\n",
        "print(single_number([10])) # -> 10"
      ],
      "execution_count": 1,
      "outputs": [
        {
          "output_type": "stream",
          "name": "stdout",
          "text": [
            "2\n",
            "5\n",
            "10\n"
          ]
        }
      ]
    },
    {
      "cell_type": "code",
      "metadata": {
        "id": "_2lI0mOCfmtE"
      },
      "source": [
        ""
      ],
      "execution_count": null,
      "outputs": []
    }
  ]
}