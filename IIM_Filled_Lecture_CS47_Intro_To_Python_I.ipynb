{
  "nbformat": 4,
  "nbformat_minor": 0,
  "metadata": {
    "colab": {
      "name": "IIM_Filled_Lecture_CS47_Intro_To_Python_I.ipynb",
      "provenance": [],
      "collapsed_sections": [],
      "include_colab_link": true
    },
    "kernelspec": {
      "name": "python3",
      "display_name": "Python 3"
    },
    "language_info": {
      "name": "python"
    }
  },
  "cells": [
    {
      "cell_type": "markdown",
      "metadata": {
        "id": "view-in-github",
        "colab_type": "text"
      },
      "source": [
        "<a href=\"https://colab.research.google.com/github/ivan-mihailov/LS-CS-S1/blob/main/IIM_Filled_Lecture_CS47_Intro_To_Python_I.ipynb\" target=\"_parent\"><img src=\"https://colab.research.google.com/assets/colab-badge.svg\" alt=\"Open In Colab\"/></a>"
      ]
    },
    {
      "cell_type": "markdown",
      "metadata": {
        "id": "mNXrK9z3LW3T"
      },
      "source": [
        "## Attendance code: 2839\n",
        "# Intro to Python I\n",
        "\n",
        "## Some Basics before we get in to the language\n",
        "- creating a python file\n",
        "- directories?\n",
        "- using python in the shell\n",
        "- using the python REPL\n",
        "- using python in a notebook\n",
        "\n",
        "## Some Objectives\n",
        "- Name and describe the details of each step of Lambda's Problem-Solving Framework (U.P.E.R.)\n",
        "- Use a print statement\n",
        "- use white space to denote blocks\n",
        "- use basic types\n",
        "- use basic operators\n",
        "- create f strings\n",
        "- perform basic string operations\n",
        "- evaluate conditional operations\n",
        "- use for and while loops\n",
        "- create user defined functions and call them"
      ]
    },
    {
      "cell_type": "code",
      "metadata": {
        "id": "xz3byhHvLSF8"
      },
      "source": [
        "# Let's print some things to the screen!"
      ],
      "execution_count": null,
      "outputs": []
    },
    {
      "cell_type": "code",
      "metadata": {
        "id": "UDg__0omMaiT",
        "colab": {
          "base_uri": "https://localhost:8080/"
        },
        "outputId": "9da7416b-5dc0-4cda-867c-fe3151013de7"
      },
      "source": [
        "# lets look at some types\n",
        "\n",
        "type(123)\n",
        "type(12.9)\n",
        "type(\"Hello\")\n",
        "type([1, 2, 3])\n",
        "type({'a': 12, 'b': 22})\n"
      ],
      "execution_count": null,
      "outputs": [
        {
          "output_type": "execute_result",
          "data": {
            "text/plain": [
              "dict"
            ]
          },
          "metadata": {},
          "execution_count": 1
        }
      ]
    },
    {
      "cell_type": "code",
      "metadata": {
        "id": "WyqkvZVWMeYk"
      },
      "source": [
        "# basic operators\n",
        " '''\n",
        " = # assignment\n",
        " += # increment\n",
        " -= # decrement\n",
        " *\n",
        " *=\n",
        " / \n",
        " /=\n",
        " % # modulus/remainder\n",
        " '''\n",
        " a = 12\n",
        " b = 10\n",
        " print(a)\n",
        "a +=b\n",
        "print(a)\n",
        "a = a * b\n",
        "print(a)\n",
        "# a *=b is the same as a = a * b (same for division)\n",
        "print(a)\n"
      ],
      "execution_count": null,
      "outputs": []
    },
    {
      "cell_type": "code",
      "metadata": {
        "id": "nHpmlL3lMhWU",
        "colab": {
          "base_uri": "https://localhost:8080/"
        },
        "outputId": "d4db44ca-5784-42b5-849d-457f3cdbbf80"
      },
      "source": [
        "# f-strings\n",
        "z = 1234567\n",
        "s = f\"{1 + 2}  {'hello'} some text   {z}   {z + 3}\"\n",
        "print(s)"
      ],
      "execution_count": null,
      "outputs": [
        {
          "output_type": "stream",
          "name": "stdout",
          "text": [
            "3  hello some text   1234567   1234570\n"
          ]
        }
      ]
    },
    {
      "cell_type": "code",
      "metadata": {
        "id": "s_7D-Oy-MjGS",
        "colab": {
          "base_uri": "https://localhost:8080/"
        },
        "outputId": "722d6a1c-b77e-4abf-d4cc-fdaaf8825024"
      },
      "source": [
        "# string operations\n",
        "st = \"The brown fox is in the hen house! and i want to fix some things here.\"\n",
        "print(st)\n",
        "st2 = st.upper()\n",
        "print(st2)\n",
        "help(st.capitalize)"
      ],
      "execution_count": null,
      "outputs": [
        {
          "output_type": "stream",
          "name": "stdout",
          "text": [
            "The brown fox is in the hen house! and i want to fix some things here.\n",
            "THE BROWN FOX IS IN THE HEN HOUSE! AND I WANT TO FIX SOME THINGS HERE.\n",
            "Help on built-in function capitalize:\n",
            "\n",
            "capitalize() method of builtins.str instance\n",
            "    Return a capitalized version of the string.\n",
            "    \n",
            "    More specifically, make the first character have upper case and the rest lower\n",
            "    case.\n",
            "\n"
          ]
        }
      ]
    },
    {
      "cell_type": "code",
      "metadata": {
        "id": "UW6R8Xc4Mmd2"
      },
      "source": [
        "# conditionals\n",
        "\n",
        "if 1 == 1:\n",
        "  print('1 is equal to 1')\n",
        "else:\n",
        "  print('I am a fish!')"
      ],
      "execution_count": null,
      "outputs": []
    },
    {
      "cell_type": "code",
      "metadata": {
        "id": "-fQnN5V6MVeV",
        "colab": {
          "base_uri": "https://localhost:8080/"
        },
        "outputId": "6aa10b08-a942-4701-99fd-6b808305995b"
      },
      "source": [
        "# indentation is key to help python know where we are in our code\n",
        "a = 90\n",
        "if a > 50:\n",
        "  print('a is biggggggg')\n",
        "  if a == 100:\n",
        "    print('you are 100!!!!!')\n",
        "elif a <= 40:\n",
        "                                                  print ('AAAAAAAAAAAAAAAAA?!')\n",
        "else:\n",
        "  print('I am a fish!')"
      ],
      "execution_count": null,
      "outputs": [
        {
          "output_type": "stream",
          "name": "stdout",
          "text": [
            "a is biggggggg\n"
          ]
        }
      ]
    },
    {
      "cell_type": "code",
      "metadata": {
        "id": "jnqZOJObMpCA",
        "colab": {
          "base_uri": "https://localhost:8080/"
        },
        "outputId": "ccc5499d-84c8-4fbb-b282-7f58a76a766d"
      },
      "source": [
        "# looping\n",
        "letters = ['a', 'b', 'c', 'd']\n",
        "\n",
        "for letter in letters:\n",
        "  print(letter.upper())\\\n",
        "\n",
        "for i in range(len(letters)):\n",
        "  if i == 1:\n",
        "    continue\n",
        "  print(letters[i])\n",
        "\n",
        "i = 0\n",
        "while i < len(letters):\n",
        "  print(letters[i].upper())\n",
        "  i += 1"
      ],
      "execution_count": null,
      "outputs": [
        {
          "output_type": "stream",
          "name": "stdout",
          "text": [
            "A\n",
            "B\n",
            "C\n",
            "D\n",
            "a\n",
            "c\n",
            "d\n",
            "A\n",
            "B\n",
            "C\n",
            "D\n"
          ]
        }
      ]
    },
    {
      "cell_type": "code",
      "metadata": {
        "id": "9cQbYnUyMrG9",
        "colab": {
          "base_uri": "https://localhost:8080/"
        },
        "outputId": "4b07e2b2-87f5-40de-d4f3-8ea321a40c0f"
      },
      "source": [
        "# lets define some functions and use them\n",
        "\n",
        "def add(a, b):\n",
        "  for i in range(0,10):\n",
        "    print(i)\n",
        "    if i == 5:\n",
        "      break\n",
        "  return a + b\n",
        "\n",
        "add(1, 2)"
      ],
      "execution_count": null,
      "outputs": [
        {
          "output_type": "stream",
          "name": "stdout",
          "text": [
            "0\n",
            "1\n",
            "2\n",
            "3\n",
            "4\n",
            "5\n"
          ]
        },
        {
          "output_type": "execute_result",
          "data": {
            "text/plain": [
              "3"
            ]
          },
          "metadata": {},
          "execution_count": 15
        }
      ]
    },
    {
      "cell_type": "code",
      "metadata": {
        "colab": {
          "base_uri": "https://localhost:8080/"
        },
        "id": "z6fRU-qxNkLc",
        "outputId": "1bc8863e-be8d-419f-d102-1a5ad6568a60"
      },
      "source": [
        "# Note: this will end the entire function at the first 'return' so function\n",
        "# will never reach second 'return' with addition of a & b\n",
        "def add(a, b):\n",
        "  for i in range(0,10):\n",
        "    print(i)\n",
        "    if i == 5:\n",
        "      return\n",
        "  return a + b\n",
        "\n",
        "add(1, 2)"
      ],
      "execution_count": null,
      "outputs": [
        {
          "output_type": "stream",
          "name": "stdout",
          "text": [
            "0\n",
            "1\n",
            "2\n",
            "3\n",
            "4\n",
            "5\n"
          ]
        }
      ]
    },
    {
      "cell_type": "markdown",
      "metadata": {
        "id": "laZlKUTANiln"
      },
      "source": [
        "# Demo"
      ]
    },
    {
      "cell_type": "code",
      "metadata": {
        "id": "MoCyPQAbNleO"
      },
      "source": [
        "\"\"\"\n",
        "U, P, E, R\n",
        "Write a function that creates a dictionary with each (key, value) pair being\n",
        "the (lower case, upper case) versions of a letter, respectively.\n",
        "Examples:\n",
        "- mapping([\"p\", \"s\"]) ➞ { \"p\": \"P\", \"s\": \"S\" }\n",
        "- mapping([\"a\", \"b\", \"c\"]) ➞ { \"a\": \"A\", \"b\": \"B\", \"c\": \"C\" }\n",
        "- mapping([\"a\", \"v\", \"y\", \"z\"]) ➞ { \"a\": \"A\", \"v\": \"V\", \"y\": \"Y\", \"z\": \"Z\" }\n",
        "Notes:\n",
        "- All of the letters in the input list will always be lowercase.\n",
        "\n",
        "- input?  a list of characters all lower case\n",
        "- output? dictionary of lower case keys and upper case values\n",
        "\n",
        "[\"p\", \"s\"]\n",
        "\n",
        "if i take the original letters in the list and set them as the key inside a dictionary \n",
        "and use the strings .upper method on the same letter to produce the value\n",
        "\"p\"\n",
        "\n",
        "{ \"p\": \"P\", \"s\": \"S\" }\n",
        "\n",
        "- create an empty dictionary\n",
        "- iterate over each letter in letters\n",
        "  - use the letter as a key in the dictionary, and the letter.upper() as a value\n",
        "\n",
        "- return the dictionary\n",
        "\n",
        "[\"a\", \"b\", \"c\"]\n",
        "c\n",
        "{\"a\": \"A\", \"b\": \"B\", \"c\": \"C\"}\n",
        "\n",
        "\"\"\"\n",
        "\n",
        "# print(\"p\".upper())\n",
        "# d = {}\n",
        "# d[\"p\"] = \"P\"\n",
        "# d[\"s\"] = \"S\"\n",
        "# l = [\"p\", \"s\"]\n",
        "# for letter in l:\n",
        "#   print(letter.upper())\n",
        "# print(d)\n",
        "def mapping(letters):\n",
        "  output = {}\n",
        "  for letter in letters:\n",
        "    output[letter] = letter.upper()\n",
        "\n",
        "  return output\n",
        "\n",
        "\n",
        "print(mapping([\"p\", \"s\"])) #  ➞ { \"p\": \"P\", \"s\": \"S\" }\n",
        "print(mapping([\"a\", \"b\", \"c\"])) # ➞ { \"a\": \"A\", \"b\": \"B\", \"c\": \"C\" }\n",
        "print(mapping([\"a\", \"v\", \"y\", \"z\"])) #  ➞ { \"a\": \"A\", \"v\": \"V\", \"y\": \"Y\", \"z\": \"Z\" }"
      ],
      "execution_count": null,
      "outputs": []
    }
  ]
}